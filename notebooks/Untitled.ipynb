{
 "cells": [
  {
   "cell_type": "code",
   "execution_count": 1,
   "metadata": {
    "collapsed": true
   },
   "outputs": [],
   "source": [
    "import numpy as np"
   ]
  },
  {
   "cell_type": "code",
   "execution_count": 61,
   "metadata": {},
   "outputs": [],
   "source": [
    "class test():\n",
    "    \n",
    "    def __init__(self):\n",
    "        \n",
    "        s_1 = \"\"\"def quadrature_1(wts, xi, indices):\n",
    "                  num_nodes  = len( wts )\n",
    "                  num_coords = len( indices )\n",
    "                  print(num_nodes,num_coords)\n",
    "                  q = 0.0\n",
    "                  for i_node in range( num_nodes ):\n",
    "                      for i_coord in range( num_coords ):\n",
    "                          q += wts[i_node] * xi[i_coord,i_node] ** indices[i_coord]\n",
    "                  return q\n",
    "            \"\"\"\n",
    "        s_2 = \"\"\"def quadrature_2(self, wts, xi, indices):\n",
    "                print(self.num_nodes,self.num_coords)\n",
    "                q = 0.0\n",
    "                for i_node in range( self.num_nodes ):\n",
    "                    for i_coord in range( self.num_coords ):\n",
    "                        q += wts[i_node] * xi[i_coord,i_node] ** indices[i_coord]\n",
    "                return q\n",
    "            \"\"\"\n",
    "        s_3 = \"\"\"def quadrature_3(self, weights, abscissas, moment_index):\n",
    "        if self.num_coords == 1:\n",
    "            xi_to_idx = abscissas ** moment_index\n",
    "            q = 0.0\n",
    "            for i_node in range( self.num_nodes ):\n",
    "                q += weights[i_node] * xi_to_idx[i_node]\n",
    "        elif self.num_coords == 2:\n",
    "            q = 0.0\n",
    "            for i_node in range( self.num_nodes ):\n",
    "                q += weights[i_node] * ( abscissas[0][i_node] ** moment_index[0] ) * \\\n",
    "                     ( abscissas[1][i_node] ** momentIndex[1] )\n",
    "        elif self.num_coords == 3:\n",
    "            q = 0.0\n",
    "            for i_node in range( self.num_nodes ):\n",
    "                q += weights[i_node] * ( abscissas[0,i_node] ** moment_index[0] ) * \\\n",
    "                     ( abscissas[1,i_node] ** momentIndex[1] ) *\\\n",
    "                     ( abscissas[2,i_node] ** momentIndex[2] )        \n",
    "        else:\n",
    "            print('Quadrature not implemeted for ',self.num_internal_coords)\n",
    "            quit()\n",
    "        return q\n",
    "        \"\"\"\n",
    "        self.namespace = {}\n",
    "        exec(compile(s_1, \"<generated>\", \"exec\"), self.namespace)\n",
    "        exec(compile(s_2, \"<generated>\", \"exec\"), self.namespace)\n",
    "        exec(compile(s_3, \"<generated>\", \"exec\"), self.namespace)\n",
    "        return\n",
    "    \n",
    "    def call_compiled_function(self):\n",
    "        \n",
    "        self.num_coords = 1\n",
    "        self.num_nodes  = 11\n",
    "        wts = np.ones(self.num_nodes)\n",
    "        xi  = np.zeros([self.num_coords,self.num_nodes]) \n",
    "        xi[0,:] = np.linspace(0.0,1.0,self.num_nodes)\n",
    "        indices = np.array([1.0])\n",
    "        q = self.namespace['quadrature_1'](wts, xi, indices)\n",
    "        print(q,xi[0,:].sum())\n",
    "        q = self.namespace['quadrature_2'](self, wts, xi, indices)\n",
    "        print(q,xi[0,:].sum())\n",
    "        \n",
    "        xi = np.linspace(0.0,1.0,self.num_nodes)\n",
    "        q  = self.namespace['quadrature_3'](self, wts, xi, indices)\n",
    "        print(q,xi.sum())\n",
    "            "
   ]
  },
  {
   "cell_type": "code",
   "execution_count": 62,
   "metadata": {},
   "outputs": [
    {
     "name": "stdout",
     "output_type": "stream",
     "text": [
      "11 1\n",
      "5.500000000000001 5.500000000000001\n",
      "11 1\n",
      "5.500000000000001 5.500000000000001\n",
      "5.500000000000001 5.500000000000001\n"
     ]
    }
   ],
   "source": [
    "t = test()\n",
    "t.call_compiled_function()"
   ]
  },
  {
   "cell_type": "code",
   "execution_count": null,
   "metadata": {
    "collapsed": true
   },
   "outputs": [],
   "source": []
  }
 ],
 "metadata": {
  "kernelspec": {
   "display_name": "Python 3",
   "language": "python",
   "name": "python3"
  },
  "language_info": {
   "codemirror_mode": {
    "name": "ipython",
    "version": 3
   },
   "file_extension": ".py",
   "mimetype": "text/x-python",
   "name": "python",
   "nbconvert_exporter": "python",
   "pygments_lexer": "ipython3",
   "version": "3.7.6"
  }
 },
 "nbformat": 4,
 "nbformat_minor": 2
}
