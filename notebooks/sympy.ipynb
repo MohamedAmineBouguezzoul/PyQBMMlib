{
 "cells": [
  {
   "cell_type": "code",
   "execution_count": 6,
   "metadata": {
    "collapsed": true
   },
   "outputs": [],
   "source": [
    "import math\n",
    "import sympy as smp\n",
    "import numpy as np\n",
    "from sympy import *\n",
    "\n",
    "from IPython.core.interactiveshell import InteractiveShell\n",
    "InteractiveShell.ast_node_interactivity = \"all\""
   ]
  },
  {
   "cell_type": "code",
   "execution_count": 7,
   "metadata": {
    "collapsed": true
   },
   "outputs": [
    {
     "name": "stdout",
     "output_type": "stream",
     "text": [
      "x**l*xdot**(m - 1)*(0.3*x + 0.6*xdot)\n",
      "(0.3*x**(l + 1)*xdot**(m - 1), 0.6*x**l*xdot**m)\n"
     ]
    }
   ],
   "source": [
    "[ x, xdot ] = symbols('x xdot')\n",
    "l, m = symbols('l m',real=True)\n",
    "xddot = 0.3*x + 0.6*xdot/(x**4.1)\n",
    "xddot = 0.3*x + 0.6*xdot #/(x**4.1)\n",
    "integrand = xddot*(x**l)*(xdot**(m-1))\n",
    "simp = powsimp(expand(integrand))\n",
    "nterm = len(simp.args)\n",
    "print(integrand)\n",
    "print(simp.args)"
   ]
  },
  {
   "cell_type": "code",
   "execution_count": 8,
   "metadata": {
    "collapsed": true
   },
   "outputs": [
    {
     "name": "stdout",
     "output_type": "stream",
     "text": [
      "0.3*u + 0.6*udot\n",
      "(0.3*u**(l + 1)*udot**(m - 1), 0.6*u**l*udot**m)\n",
      "[0.3*u**(l + 1)*udot**(m - 1), 0.6*u**l*udot**m]\n"
     ]
    }
   ],
   "source": [
    "equation_string = '0.3*u + 0.6*udot'\n",
    "u, udot = smp.symbols('u udot')\n",
    "l, m = smp.symbols('l m',real=True)\n",
    "equation = smp.parse_expr( equation_string )\n",
    "integrand = equation*(u**l)*(udot**(m-1))\n",
    "simp = smp.powsimp(smp.expand(integrand))\n",
    "nterm = len(simp.args)\n",
    "print(equation)\n",
    "print(simp.args)\n",
    "print('[{:s}]'.format(', '.join( [str(a) for a in simp.args])))"
   ]
  },
  {
   "cell_type": "code",
   "execution_count": 9,
   "metadata": {},
   "outputs": [
    {
     "data": {
      "text/latex": [
       "$\\displaystyle \\left[\\begin{matrix}l + 1 & m - 1\\\\l - 4.1 & m\\\\l - 1 & m + 1\\end{matrix}\\right]$"
      ],
      "text/plain": [
       "Matrix([\n",
       "[  l + 1, m - 1],\n",
       "[l - 4.1,     m],\n",
       "[  l - 1, m + 1]])"
      ]
     },
     "execution_count": 9,
     "metadata": {},
     "output_type": "execute_result"
    },
    {
     "data": {
      "text/latex": [
       "$\\displaystyle \\left[\\begin{matrix}0.3 m\\\\0.6 m\\\\l\\end{matrix}\\right]$"
      ],
      "text/plain": [
       "Matrix([\n",
       "[0.3*m],\n",
       "[0.6*m],\n",
       "[    l]])"
      ]
     },
     "execution_count": 9,
     "metadata": {},
     "output_type": "execute_result"
    }
   ],
   "source": [
    "num_int_coords = 2\n",
    "\n",
    "if num_int_coords == 2:\n",
    "    [ x, xdot ] = symbols('x xdot')\n",
    "    l, m = symbols('l m',real=True)\n",
    "    xddot = 0.3*x + 0.6*xdot/(x**4.1)\n",
    "    integrand = xddot*(x**l)*(xdot**(m-1))\n",
    "elif num_int_coords == 1:\n",
    "    x = symbols('x')\n",
    "    l = symbols('l',real=True)\n",
    "    xdot = 4*x - 2*x**2\n",
    "    integrand = xdot*(x**(l-1))\n",
    "\n",
    "terms = powsimp(expand(integrand)).args\n",
    "nterm = len(terms)\n",
    "if num_int_coords > 1:\n",
    "    real_nterm = nterm + 1\n",
    "else:\n",
    "    real_nterm = nterm\n",
    "\n",
    "exp  = zeros(real_nterm,num_int_coords)\n",
    "coef = zeros(real_nterm,1)\n",
    "\n",
    "#terms = zeros(nterm)\n",
    "for i in range(nterm):\n",
    "    #terms[i] = simp.args[i]\n",
    "\n",
    "    exp[i,0] = terms[i].as_coeff_exponent(x)[1]\n",
    "    if num_int_coords > 1:\n",
    "        exp[ i,1]  = terms[i].as_coeff_exponent(xdot)[1]\n",
    "        coef[i,0] = m*poly(terms[i]).coeffs()[0]\n",
    "    elif num_int_coords == 1:\n",
    "        coef[i,0] = l*poly(terms[i]).coeffs()[0]\n",
    "    \n",
    "if num_int_coords > 1:\n",
    "    exp[ nterm,0] = l - 1\n",
    "    exp[ nterm,1] = m + 1\n",
    "    coef[nterm,0] = l\n",
    "    \n",
    "exp\n",
    "coef"
   ]
  },
  {
   "cell_type": "code",
   "execution_count": 10,
   "metadata": {
    "collapsed": true
   },
   "outputs": [
    {
     "name": "stdout",
     "output_type": "stream",
     "text": [
      "[l + 1, m - 1, l - 4.1, m, l - 1, m + 1]\n"
     ]
    }
   ],
   "source": [
    "print('[{:s}]'.format(', '.join( [str(a) for a in exp])))"
   ]
  },
  {
   "cell_type": "code",
   "execution_count": 11,
   "metadata": {
    "collapsed": true
   },
   "outputs": [],
   "source": [
    "# SHB: This was old stuff, putting here just in case\n",
    "\n",
    "num_int_coords = 2\n",
    "num_max_terms = 3\n",
    "def transportterms(x,xdot,xddot,num_max_terms,num_int_coords):\n",
    "    # l -> c0\n",
    "    # m -> c1\n",
    "    # (n if it exists -> c2)\n",
    "    c0, c1 = symbols('c0 c1')\n",
    "    exp  = zeros(num_max_terms,num_int_coords)\n",
    "    coef = zeros(num_max_terms,1)\n",
    "    exp[0,0] = c0-1  #[ c0-1, c1 + 1 ]\n",
    "    exp[0,1] = c1 + 1\n",
    "    coef[0] = c0\n",
    "    # if xddot = x + xdot\n",
    "    # then integrand -> (x+xdot)*x^l xdot^m-1\n",
    "    #                -> (x^l+1 + xdot*x^l)*(x*xdot^m-1 + xdot^m)\n",
    "    #                -> (x^{l+1}*xdot^{m} + x^{l}*xdot^{m}) P d{x} d{xdo}\n",
    "    #                -> [l+1,m] + [l,m]\n",
    "    # these are all multiplied by m out front, so\n",
    "    exp[1,0] = c0+1\n",
    "    exp[1,1] = c1\n",
    "    exp[2,0] = c0\n",
    "    exp[2,1] = c1\n",
    "    coef[1,0] = c1\n",
    "    coef[2,0] = c1\n",
    "    return exp,coef"
   ]
  },
  {
   "cell_type": "code",
   "execution_count": 21,
   "metadata": {
    "collapsed": true
   },
   "outputs": [
    {
     "name": "stdout",
     "output_type": "stream",
     "text": [
      "Matrix([[l + 1, m - 1], [l - 4.1, m], [l - 1, m + 1]]) Matrix([[0.3*m], [0.6*m], [l]])\n"
     ]
    }
   ],
   "source": [
    "print(exp, coef)"
   ]
  },
  {
   "cell_type": "code",
   "execution_count": null,
   "metadata": {
    "collapsed": true
   },
   "outputs": [],
   "source": []
  },
  {
   "cell_type": "code",
   "execution_count": null,
   "metadata": {
    "collapsed": true
   },
   "outputs": [],
   "source": []
  },
  {
   "cell_type": "code",
   "execution_count": 12,
   "metadata": {},
   "outputs": [
    {
     "name": "stdout",
     "output_type": "stream",
     "text": [
      "X0**i0*X1**i1*X1**i2*X2**i1*X2**i2\n"
     ]
    }
   ],
   "source": [
    "X = [smp.symbols('X%d' % x) for x in range(3)]\n",
    "I = [smp.symbols('i%d' % i) for i in range(3)]\n",
    "\n",
    "integrand = X[0]**I[0]\n",
    "for x in range(1,3):\n",
    "    for i in range(1,3):\n",
    "        integrand *= (X[x]**I[i])\n",
    "print(integrand)"
   ]
  },
  {
   "cell_type": "code",
   "execution_count": 13,
   "metadata": {},
   "outputs": [],
   "source": [
    "X[0] = smp.symbols('y')\n"
   ]
  },
  {
   "cell_type": "code",
   "execution_count": 14,
   "metadata": {},
   "outputs": [
    {
     "data": {
      "text/plain": [
       "[0, 0, 0]"
      ]
     },
     "execution_count": 14,
     "metadata": {},
     "output_type": "execute_result"
    }
   ],
   "source": [
    "[smp.symbols('0') for x in range(3)]"
   ]
  },
  {
   "cell_type": "code",
   "execution_count": 15,
   "metadata": {},
   "outputs": [
    {
     "name": "stdout",
     "output_type": "stream",
     "text": [
      "[[[0.  0.  0. ]\n",
      "  [0.  0.  0. ]\n",
      "  [0.  0.  0. ]\n",
      "  [0.  0.  0. ]]\n",
      "\n",
      " [[0.1 0.2 0.3]\n",
      "  [0.4 0.5 0.6]\n",
      "  [0.7 0.8 0.9]\n",
      "  [0.1 0.2 0.3]]\n",
      "\n",
      " [[0.2 0.3 0.4]\n",
      "  [0.5 0.6 0.7]\n",
      "  [1.  0.9 1. ]\n",
      "  [1.1 1.2 1.3]]\n",
      "\n",
      " [[0.3 0.4 0.5]\n",
      "  [1.5 1.6 1.7]\n",
      "  [1.4 1.  1.1]\n",
      "  [0.2 0.3 0.4]]\n",
      "\n",
      " [[0.4 0.5 0.6]\n",
      "  [2.5 2.6 2.7]\n",
      "  [2.  1.  1.2]\n",
      "  [0.4 0.5 0.6]]]\n"
     ]
    }
   ],
   "source": [
    "T = np.zeros(3)\n",
    "T = np.array([0.0,1.0,1.0,0.0])\n",
    "\n",
    "XYZ = np.zeros([5,4,3])\n",
    "XYZ[1] = np.array([[0.1,0.2,0.3],[0.4,0.5,0.6],[0.7,0.8,0.9],[0.1,0.2,0.3]])\n",
    "XYZ[2] = np.array([[0.2,0.3,0.4],[0.5,0.6,0.7],[1.0,0.9,1.0],[1.1,1.2,1.3]])\n",
    "XYZ[3] = np.array([[0.3,0.4,0.5],[1.5,1.6,1.7],[1.4,1.0,1.1],[0.2,0.3,0.4]])\n",
    "XYZ[4] = np.array([[0.4,0.5,0.6],[2.5,2.6,2.7],[2.0,1.0,1.2],[0.4,0.5,0.6]])\n",
    "print(XYZ)"
   ]
  },
  {
   "cell_type": "code",
   "execution_count": 16,
   "metadata": {},
   "outputs": [
    {
     "name": "stdout",
     "output_type": "stream",
     "text": [
      "(5, 2, 3)\n",
      "[[0.  0. ]\n",
      " [0.4 0.7]\n",
      " [0.5 1. ]\n",
      " [1.5 1.4]\n",
      " [2.5 2. ]]\n"
     ]
    }
   ],
   "source": [
    "T = np.where( T < 1.0e-9, 1.0e-9, T )\n",
    "i = ( T > 0.5 ).nonzero()[0]\n",
    "\n",
    "x_ref = 0.7\n",
    "\n",
    "XYZ_in = XYZ[:,i]\n",
    "print(XYZ_in.shape)\n",
    "x_p = XYZ_in[:,:,0]\n",
    "print(x_p)"
   ]
  },
  {
   "cell_type": "code",
   "execution_count": 17,
   "metadata": {},
   "outputs": [
    {
     "name": "stdout",
     "output_type": "stream",
     "text": [
      "[[1.44 1.44]\n",
      " [0.64 0.25]\n",
      " [0.49 0.04]\n",
      " [0.09 0.04]\n",
      " [1.69 0.64]]\n",
      "[3 2]\n",
      "[0.  0.4 0.5 1.5 2.5]\n"
     ]
    },
    {
     "data": {
      "text/plain": [
       "np.True_"
      ]
     },
     "execution_count": 17,
     "metadata": {},
     "output_type": "execute_result"
    }
   ],
   "source": [
    "x_ref = 1.2\n",
    "x_min = x_p.min(axis = 0)\n",
    "x_max = x_p.max(axis = 0)\n",
    "\n",
    "xx = ( x_p - x_ref ) * ( x_p - x_ref )\n",
    "print(xx)\n",
    "i_ref = xx.argmin(axis=0)\n",
    "print (i_ref)\n",
    "\n",
    "print( x_p[:,0])\n",
    "x_p[3,0] > x_ref\n",
    "i_left = i_ref - 1 "
   ]
  },
  {
   "cell_type": "code",
   "execution_count": 18,
   "metadata": {},
   "outputs": [
    {
     "data": {
      "text/plain": [
       "4221"
      ]
     },
     "execution_count": 18,
     "metadata": {},
     "output_type": "execute_result"
    }
   ],
   "source": [
    "201*21"
   ]
  },
  {
   "cell_type": "code",
   "execution_count": 19,
   "metadata": {},
   "outputs": [
    {
     "name": "stdout",
     "output_type": "stream",
     "text": [
      "0.0019000000000000006\n",
      "-0.008224500000000001 -0.007274500000000001 -0.0063245\n",
      "-0.008224500000000001\n"
     ]
    }
   ],
   "source": [
    "eta_min = 0.005\n",
    "eta_max = 0.1\n",
    "\n",
    "y_ref = -0.0083245\n",
    "H_ref = 0.02\n",
    "\n",
    "y_min = y_ref + H_ref * eta_min \n",
    "y_max = y_ref + H_ref * eta_max\n",
    "y_mid = 0.5 * ( y_max + y_min )\n",
    "L_y   = y_max - y_min\n",
    "\n",
    "print (L_y)\n",
    "print(y_min, y_mid, y_max)\n",
    "print(y_mid - 0.5*L_y)"
   ]
  }
 ],
 "metadata": {
  "kernelspec": {
   "display_name": "my-conda-env",
   "language": "python",
   "name": "python3"
  },
  "language_info": {
   "codemirror_mode": {
    "name": "ipython",
    "version": 3
   },
   "file_extension": ".py",
   "mimetype": "text/x-python",
   "name": "python",
   "nbconvert_exporter": "python",
   "pygments_lexer": "ipython3",
   "version": "3.12.7"
  }
 },
 "nbformat": 4,
 "nbformat_minor": 4
}
