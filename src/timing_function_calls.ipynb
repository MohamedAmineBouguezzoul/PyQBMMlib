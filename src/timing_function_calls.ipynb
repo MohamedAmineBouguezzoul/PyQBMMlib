{
 "cells": [
  {
   "cell_type": "code",
   "execution_count": 18,
   "id": "moderate-shock",
   "metadata": {},
   "outputs": [
    {
     "name": "stdout",
     "output_type": "stream",
     "text": [
      "f 0.07301426999998739\n",
      "g 0.12769997799998123\n"
     ]
    }
   ],
   "source": [
    "import timeit\n",
    "def f(): \n",
    "    return\n",
    "print('f',timeit.timeit(f))\n",
    "\n",
    "def g(): \n",
    "    x = 5 + 4\n",
    "    y = x^4+2+6+x\n",
    "    return\n",
    "print('g',timeit.timeit(g))"
   ]
  },
  {
   "cell_type": "code",
   "execution_count": null,
   "id": "educational-funeral",
   "metadata": {},
   "outputs": [],
   "source": []
  },
  {
   "cell_type": "code",
   "execution_count": null,
   "id": "later-accident",
   "metadata": {},
   "outputs": [],
   "source": []
  }
 ],
 "metadata": {
  "kernelspec": {
   "display_name": "Python 3",
   "language": "python",
   "name": "python3"
  },
  "language_info": {
   "codemirror_mode": {
    "name": "ipython",
    "version": 3
   },
   "file_extension": ".py",
   "mimetype": "text/x-python",
   "name": "python",
   "nbconvert_exporter": "python",
   "pygments_lexer": "ipython3",
   "version": "3.8.2"
  }
 },
 "nbformat": 4,
 "nbformat_minor": 5
}
