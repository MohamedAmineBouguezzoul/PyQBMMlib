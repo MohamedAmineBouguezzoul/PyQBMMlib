{
 "cells": [
  {
   "cell_type": "code",
   "execution_count": 41,
   "metadata": {},
   "outputs": [
    {
     "name": "stdout",
     "output_type": "stream",
     "text": [
      "The autoreload extension is already loaded. To reload it, use:\n",
      "  %reload_ext autoreload\n"
     ]
    }
   ],
   "source": [
    "%load_ext autoreload\n",
    "%autoreload 2\n",
    "\n",
    "from advancer import *\n",
    "from config_manager import *\n",
    "import sys\n",
    "\n",
    "sys.path.append(\"../utils/\")\n",
    "from stats_util import *\n",
    "from euler_util import *\n",
    "from jets_util import *\n",
    "from pretty_print_util import *\n",
    "import cProfile\n",
    "from mc import mc\n",
    "import matplotlib.pyplot as plt"
   ]
  },
  {
   "cell_type": "code",
   "execution_count": 49,
   "metadata": {},
   "outputs": [],
   "source": [
    "config = {}\n",
    "config[\"advancer\"] = {}\n",
    "config[\"mc\"] = {}\n",
    "config[\"model\"] = {}\n",
    "config[\"pop\"] = {}\n",
    "config[\"wave\"] = {}\n",
    "config[\"qbmm\"] = {}\n",
    "\n",
    "config[\"advancer\"][\"method\"] = \"RK3\"\n",
    "config[\"advancer\"][\"time_step\"] = 1.0e-6\n",
    "config[\"advancer\"][\"final_time\"] = 8.0\n",
    "config[\"advancer\"][\"error_tol\"] = 1.0e-7\n",
    "config[\"advancer\"][\"num_steps\"] = 200000\n",
    "config[\"advancer\"][\"num_steps_print\"] = 1000\n",
    "config[\"advancer\"][\"num_steps_write\"] = 10\n",
    "config[\"advancer\"][\"output_dir\"] = \"D/\"\n",
    "config[\"advancer\"][\"output_id\"] = \"example_2D\"\n",
    "config[\"advancer\"][\"write_to\"] = \"txt\"\n",
    "\n",
    "# Acoustic\n",
    "# config[\"wave\"][\"amplitude\"] = 3\n",
    "config[\"wave\"][\"amplitude\"] = 1/0.9\n",
    "config[\"wave\"][\"form\"] = \"sine\"\n",
    "# config[\"wave\"][\"form\"] = \"constant\"\n",
    "config[\"wave\"][\"period\"] = 4.0\n",
    "config[\"wave\"][\"cycles\"] = 1.0\n",
    "\n",
    "config[\"mc\"][\"Nsamples\"] = 1000\n",
    "config[\"mc\"][\"Ntimes\"] = 100\n",
    "\n",
    "# in R and Rdot directions\n",
    "config[\"pop\"][\"shape\"] = [\"normal\", \"normal\"]\n",
    "config[\"pop\"][\"mu\"] = [1.,0]\n",
    "config[\"pop\"][\"sig\"] = [0.05,0.05]\n",
    "# config[\"pop\"][\"moments\"] = [[1, 0], [0, 1], [1, 1]]\n",
    "config[\"pop\"][\"moments\"] = [ [3, 2], [2, 1], [3, 0], [ 3*(1-1.4), 0 ] ]\n",
    "\n",
    "# Bubble properties\n",
    "config[\"model\"][\"model\"] = \"RPE\"\n",
    "# config[\"model\"][\"model\"] = \"KM\"\n",
    "# config[\"model\"][\"model\"] = \"Linear\"\n",
    "# config[\"model\"][\"R\"] = 1.0\n",
    "# config[\"model\"][\"V\"] = 0.0\n",
    "config[\"model\"][\"gamma\"] = 1.0\n",
    "# config[\"model\"][\"c\"] = 1000.\n",
    "# config[\"model\"][\"Ca\"] = 0.5\n",
    "config[\"model\"][\"Re_inv\"] = 1/1000.\n",
    "# config[\"model\"][\"Web\"] = 13.9\n",
    "\n",
    "\n",
    "# config[\"qbmm\"][\"governing_dynamics\"] = \" - 1.5*xdot*xdot/x + 1./(x**4) - 1./(x*0.9)  - 4/1000*xdot/x/x\"\n",
    "config[\"qbmm\"][\"governing_dynamics\"] = \" - 1.5*xdot*xdot/x + 1./(x**4) - p/x \"\n",
    "# == Rddot\n",
    "\n",
    "# config[\"qbmm\"][\"governing_dynamics\"] = \" - x - xdot\"\n",
    "config[\"qbmm\"][\"num_internal_coords\"] = 2\n",
    "config[\"qbmm\"][\"num_quadrature_nodes\"] = 4\n",
    "config[\"qbmm\"][\"method\"] = \"chyqmom\"\n",
    "config[\"qbmm\"][\"adaptive\"] = False\n",
    "config[\"qbmm\"][\"max_skewness\"] = 30"
   ]
  },
  {
   "cell_type": "code",
   "execution_count": 50,
   "metadata": {},
   "outputs": [
    {
     "name": "stdout",
     "output_type": "stream",
     "text": [
      "qbmm_mgr: init: Configuration options ready:\n",
      "\t flow                = False\n",
      "\t governing_dynamics  =  - 1.5*xdot*xdot/x + 1./(x**4) - p/x \n",
      "\t num_internal_coords = 2\n",
      "\t method              = chyqmom\n",
      "\t max_skewness        = 30\n",
      "\t num_moments         = 6\n",
      "terms =  (1.0*x**(l - 4)*xdot**(m - 1), -1.5*x**(l - 1)*xdot**(m + 1), -p*x**(l - 1)*xdot**(m - 1))\n",
      "qbmm_mgr: transport_terms: exponents = [l - 4, m - 1]\n",
      "qbmm_mgr: transport_terms: exponents = [l - 1, m + 1]\n",
      "qbmm_mgr: transport_terms: exponents = [l - 1, m - 1]\n",
      "qbmm_mgr: transport_terms: exponents = [l - 1, m + 1]\n",
      "qbmm_mgr: transport_terms: coefficients = [1.0*m, -1.5*m, -m*p, l]\n",
      "advancer: init: Configuration options ready\n",
      "\t method          = RK3\n",
      "\t time_step       = 1.0000E-06\n",
      "\t final_time      = 8.0000E+00\n",
      "\t adaptivity      = True\n",
      "\t num_steps_print = 1000\n",
      "\t num_steps_write = 10\n",
      "\t output_dir      = D/\n",
      "\t output_id       = example_2D\n",
      "\t write_to        = txt\n",
      "\t error_tol       = 1.0000E-07\n",
      "advancer: initialize_bigaussian: state = [1.0000000000000000e+00, 1.0000000000000002e+00, 0.0000000000000000e+00, 1.0024999999999999e+00, 0.0000000000000000e+00, 2.5000000000000005e-03]\n"
     ]
    }
   ],
   "source": [
    "# Initialize condition\n",
    "advancer = time_advancer(config)\n",
    "num_dim = config[\"qbmm\"][\"num_internal_coords\"]\n",
    "mu = config[\"pop\"][\"mu\"]\n",
    "sigma = config[\"pop\"][\"sig\"]\n",
    "\n",
    "if num_dim == 1:\n",
    "    advancer.initialize_state_gaussian_univar(mu, sigma)\n",
    "elif num_dim == 2:\n",
    "    advancer.initialize_state_gaussian_bivar(mu[0], mu[1], sigma[0], sigma[1])\n",
    "    \n",
    "advancer.initialize_wave(wave_config=config[\"wave\"])"
   ]
  },
  {
   "cell_type": "code",
   "execution_count": null,
   "metadata": {},
   "outputs": [
    {
     "name": "stdout",
     "output_type": "stream",
     "text": [
      "advancer: run: Preparing to step\n",
      "advancer: step = 0 ... time = 0.0000000000000000E+00 ... time_step = 9.9999999999999995E-07 ... state = [1.0000000000000000e+00, 1.0000000000000002e+00, 0.0000000000000000e+00, 1.0024999999999999e+00, 0.0000000000000000e+00, 2.5000000000000005e-03]\n",
      "advancer: step = 1000 ... time = 1.9457735247486763E+00 ... time_step = 3.1224085351634497E-03 ... state = [1.0000000000000000e+00, 9.5556813176434685e-01, 5.8827331008999151e-01, 9.1573905080049645e-01, 5.6205821799826394e-01, 3.4919439042080230e-01]\n",
      "advancer: step = 2000 ... time = 6.4867985484298458E+00 ... time_step = 5.1274398293253308E-04 ... state = [1.0000000000000000e+00, 8.4953813283578883e-01, -2.3055083777848355e+00, 7.3103149189853911e-01, -1.9291126264488792e+00, 5.4106468618908901e+00]\n",
      "advancer: step = 3000 ... time = 6.6254271208943578E+00 ... time_step = 2.2256229970978738E-05 ... state = [1.0000000000000000e+00, 3.6727686527811659e-01, 6.1901831207809133e-01, 1.7780643908034555e-01, -6.9846158607075370e-01, 2.0541738719090073e+01]\n"
     ]
    }
   ],
   "source": [
    "advancer.run()"
   ]
  },
  {
   "cell_type": "code",
   "execution_count": null,
   "metadata": {},
   "outputs": [],
   "source": [
    "# Monte Carlo\n",
    "mymc = mc(config)\n",
    "mymc.run()\n",
    "\n",
    "# plt.tight_layout()\n",
    "plt.show()"
   ]
  }
 ],
 "metadata": {
  "kernelspec": {
   "display_name": "Python 3",
   "language": "python",
   "name": "python3"
  },
  "language_info": {
   "codemirror_mode": {
    "name": "ipython",
    "version": 3
   },
   "file_extension": ".py",
   "mimetype": "text/x-python",
   "name": "python",
   "nbconvert_exporter": "python",
   "pygments_lexer": "ipython3",
   "version": "3.8.6"
  }
 },
 "nbformat": 4,
 "nbformat_minor": 4
}
