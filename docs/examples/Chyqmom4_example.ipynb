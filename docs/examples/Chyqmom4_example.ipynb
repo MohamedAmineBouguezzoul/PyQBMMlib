{
 "cells": [
  {
   "cell_type": "markdown",
   "id": "7544c0c0",
   "metadata": {},
   "source": [
    "# Example: Using CHyqmom4\n",
    "This example shows the usage of CHyqmom4. Chyqmom9 and 27 follow a very similar usage process "
   ]
  },
  {
   "cell_type": "markdown",
   "id": "a8e2b3d4",
   "metadata": {},
   "source": [
    "## Input Data\n",
    "To begin, we need to create a input data object that contains the moments. The ```chyqmom4``` class takes in a very speficific data format as input: the input must be a 2D ```numpy.ndarray``` type.  As well, for the sake of the GPUs, it must also be continuous in memory, and the values must be ```numpy.float32``` types. \n",
    "\n",
    "To ensure that an array satisfies these prereq, the simplest way is to use PyCuda's ```aligned_empty``` method to create an empty numpy array that is continuous in memory. However, ```numpy.ndarray``` provides a simple way to check whether an existing array is already continuous.\n",
    "\n",
    "**NOTE**\n",
    " It is important that the array is continuous in C style (row values are continuous in memory) for the GPUs"
   ]
  },
  {
   "cell_type": "code",
   "execution_count": 17,
   "id": "bbb6aec2",
   "metadata": {},
   "outputs": [
    {
     "name": "stdout",
     "output_type": "stream",
     "text": [
      "Is array continuous in memory?  True\n",
      "Is array continuous in C style?  True\n",
      "Is array continuous in Fortran style?  False\n"
     ]
    }
   ],
   "source": [
    "import numpy as np\n",
    "import pycuda.driver as cuda\n",
    "import pycuda.autoinit\n",
    "\n",
    "arr_size = (3, 3)\n",
    "array = cuda.aligned_empty(arr_size, dtype=np.float32)\n",
    "\n",
    "print(\"Is array continuous in memory? \", array.data.contiguous)          # True\n",
    "print(\"Is array continuous in C style? \",array.data.c_contiguous)        # True\n",
    "print(\"Is array continuous in Fortran style? \",array.data.f_contiguous)  # False"
   ]
  },
  {
   "cell_type": "markdown",
   "id": "0422d6a9",
   "metadata": {},
   "source": [
    "Helper functions are provided in ```qbmmlib.gpu.util``` for starting up a dummy input moment array for the purpose of examples and debugging. For the case of Chyqmom4, the one we want is ```init_moment_6()```"
   ]
  },
  {
   "cell_type": "code",
   "execution_count": 18,
   "id": "942820ff",
   "metadata": {},
   "outputs": [],
   "source": [
    "import qbmmlib.gpu.util as util\n",
    "\n",
    "num_moments = int(1e4)\n",
    "dummy_moment = util.init_moment_6(num_moments)"
   ]
  },
  {
   "cell_type": "markdown",
   "id": "25470caa",
   "metadata": {},
   "source": [
    "## Initialize a Chyqmom4 class\n",
    "The Chyqmom4 class is located in  ```qbmmlib.gpu.chyqmom4``` module. To start an instance, we provide two parameters: number of GPU device we wish to use, and number of input we expect. Note that we do not actualy pass in the data during initialization.  "
   ]
  },
  {
   "cell_type": "code",
   "execution_count": 19,
   "id": "efa1cdc5",
   "metadata": {},
   "outputs": [],
   "source": [
    "from qbmmlib.gpu.chyqmom4 import Chyqmom4\n",
    "\n",
    "num_device = 1\n",
    "C = Chyqmom4(num_device, num_moments)"
   ]
  },
  {
   "cell_type": "markdown",
   "id": "5ba2a39b",
   "metadata": {},
   "source": [
    "Now that an instance of the class is initaiized without error, we can set the input moment. The moment's size must match the value we specified during the instance's initailization  "
   ]
  },
  {
   "cell_type": "code",
   "execution_count": 20,
   "id": "a62a86ea",
   "metadata": {},
   "outputs": [],
   "source": [
    "C.set_args(dummy_moment)"
   ]
  },
  {
   "cell_type": "markdown",
   "id": "9191e9fa",
   "metadata": {},
   "source": [
    "That is all to the initialization! The input moment can be changed however many times as long as its size matches. However, a new instance must be started if you want to change either the number of GPU used, or the number of moments in the expected input "
   ]
  },
  {
   "cell_type": "markdown",
   "id": "e84e803f",
   "metadata": {},
   "source": [
    "## Running Chyqmom4\n",
    "Once the class is initailized and its input argument set, the class is ready for execution. Here we set up a simple timing system to measure its performance "
   ]
  },
  {
   "cell_type": "code",
   "execution_count": 21,
   "id": "0083267a",
   "metadata": {},
   "outputs": [
    {
     "name": "stdout",
     "output_type": "stream",
     "text": [
      "[Chyqmom4] input moment size: 10000 \n",
      "N GPU: 1, N Stream: 1 \n",
      "time (ms): 1.0899\n"
     ]
    }
   ],
   "source": [
    "import time\n",
    "\n",
    "start_time = time.perf_counter()    \n",
    "# Run chyqmom4 on the specified input \n",
    "res = C.run()\n",
    "stop_time = time.perf_counter()\n",
    "\n",
    "run_time = (stop_time - start_time) * 1e3 # ms\n",
    "print(\"[Chyqmom4] input moment size: {} \\nN GPU: {}, N Stream: {} \\ntime (ms): {:.4f}\".format(\n",
    "    C.in_size, C.num_device, C.num_stream, run_time))"
   ]
  },
  {
   "cell_type": "markdown",
   "id": "bf476fd1",
   "metadata": {},
   "source": [
    "The output weight and abscissas are stored in 3 members of the class: weight in ```w_chunk_host```, (x, y) in ```x_chunk_host``` and ```y_chunk_host``` respectively. Note that these members will contain zeros if they are accessed before the ```run()``` method is called  "
   ]
  },
  {
   "cell_type": "code",
   "execution_count": 22,
   "id": "189ceed0",
   "metadata": {},
   "outputs": [
    {
     "name": "stdout",
     "output_type": "stream",
     "text": [
      "Weight: \n",
      "[[array([[0.25, 0.25, 0.25, ..., 0.25, 0.25, 0.25],\n",
      "       [0.25, 0.25, 0.25, ..., 0.25, 0.25, 0.25],\n",
      "       [0.25, 0.25, 0.25, ..., 0.25, 0.25, 0.25],\n",
      "       [0.25, 0.25, 0.25, ..., 0.25, 0.25, 0.25]], dtype=float32)]]\n"
     ]
    }
   ],
   "source": [
    "print(\"Weight: \")\n",
    "print(C.w_chunk_host)"
   ]
  }
 ],
 "metadata": {
  "kernelspec": {
   "display_name": "pyqbmmlib",
   "language": "python",
   "name": "pyqbmmlib"
  },
  "language_info": {
   "codemirror_mode": {
    "name": "ipython",
    "version": 3
   },
   "file_extension": ".py",
   "mimetype": "text/x-python",
   "name": "python",
   "nbconvert_exporter": "python",
   "pygments_lexer": "ipython3",
   "version": "3.8.5"
  }
 },
 "nbformat": 4,
 "nbformat_minor": 5
}